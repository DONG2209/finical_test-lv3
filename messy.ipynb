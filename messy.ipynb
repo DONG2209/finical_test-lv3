{
 "cells": [
  {
   "cell_type": "code",
   "execution_count": 388,
   "metadata": {},
   "outputs": [],
   "source": [
    "import pandas as pd\n",
    "import datetime as dt\n"
   ]
  },
  {
   "cell_type": "code",
   "execution_count": 389,
   "metadata": {},
   "outputs": [],
   "source": [
    "df=pd.read_excel('g:\\\\DA\\\\finical test lv3\\messy.xlsx')"
   ]
  },
  {
   "cell_type": "code",
   "execution_count": 390,
   "metadata": {},
   "outputs": [
    {
     "data": {
      "text/html": [
       "<div>\n",
       "<style scoped>\n",
       "    .dataframe tbody tr th:only-of-type {\n",
       "        vertical-align: middle;\n",
       "    }\n",
       "\n",
       "    .dataframe tbody tr th {\n",
       "        vertical-align: top;\n",
       "    }\n",
       "\n",
       "    .dataframe thead th {\n",
       "        text-align: right;\n",
       "    }\n",
       "</style>\n",
       "<table border=\"1\" class=\"dataframe\">\n",
       "  <thead>\n",
       "    <tr style=\"text-align: right;\">\n",
       "      <th></th>\n",
       "      <th>CUst ID</th>\n",
       "      <th>JOIN% DATE</th>\n",
       "      <th>Unnamed: 2</th>\n",
       "      <th>mobiles</th>\n",
       "      <th>FLL NAM</th>\n",
       "    </tr>\n",
       "  </thead>\n",
       "  <tbody>\n",
       "    <tr>\n",
       "      <th>0</th>\n",
       "      <td>1</td>\n",
       "      <td>08/07/19</td>\n",
       "      <td>NaN</td>\n",
       "      <td>84333605993</td>\n",
       "      <td>mIChAel mIcHALek</td>\n",
       "    </tr>\n",
       "    <tr>\n",
       "      <th>1</th>\n",
       "      <td>2</td>\n",
       "      <td>09/10/18</td>\n",
       "      <td>NaN</td>\n",
       "      <td>973444062</td>\n",
       "      <td>Andrew Jimenez</td>\n",
       "    </tr>\n",
       "    <tr>\n",
       "      <th>2</th>\n",
       "      <td>3</td>\n",
       "      <td>20190630</td>\n",
       "      <td>NaN</td>\n",
       "      <td>338262954</td>\n",
       "      <td>Ann Gow</td>\n",
       "    </tr>\n",
       "    <tr>\n",
       "      <th>3</th>\n",
       "      <td>4</td>\n",
       "      <td>2019-09-06 00:00:1567702800</td>\n",
       "      <td>NaN</td>\n",
       "      <td>84966068026</td>\n",
       "      <td>James Chen</td>\n",
       "    </tr>\n",
       "    <tr>\n",
       "      <th>4</th>\n",
       "      <td>5</td>\n",
       "      <td>20170812</td>\n",
       "      <td>NaN</td>\n",
       "      <td>84767065885</td>\n",
       "      <td>Dollie Martinez</td>\n",
       "    </tr>\n",
       "  </tbody>\n",
       "</table>\n",
       "</div>"
      ],
      "text/plain": [
       "   CUst ID                   JOIN% DATE  Unnamed: 2      mobiles  \\\n",
       "0        1                     08/07/19         NaN  84333605993   \n",
       "1        2                     09/10/18         NaN    973444062   \n",
       "2        3                     20190630         NaN    338262954   \n",
       "3        4  2019-09-06 00:00:1567702800         NaN  84966068026   \n",
       "4        5                     20170812         NaN  84767065885   \n",
       "\n",
       "            FLL NAM  \n",
       "0  mIChAel mIcHALek  \n",
       "1    Andrew Jimenez  \n",
       "2           Ann Gow  \n",
       "3        James Chen  \n",
       "4   Dollie Martinez  "
      ]
     },
     "execution_count": 390,
     "metadata": {},
     "output_type": "execute_result"
    }
   ],
   "source": [
    "df.head()"
   ]
  },
  {
   "attachments": {},
   "cell_type": "markdown",
   "metadata": {},
   "source": [
    "1,Clean the names of columns to lowercase separatedby “_”, remove any empty column ifnecessary."
   ]
  },
  {
   "cell_type": "code",
   "execution_count": 391,
   "metadata": {},
   "outputs": [],
   "source": [
    "df.columns = df.columns.str.strip()  # Xóa khoảng trắng ở đầu và cuối cột\n",
    "df.columns = df.columns.str.lower().str.replace(' ', '_')\n",
    "df = df.dropna(axis=1, how='all')"
   ]
  },
  {
   "cell_type": "code",
   "execution_count": 392,
   "metadata": {},
   "outputs": [],
   "source": [
    "df['cust_id']=df['cust_id'].astype(str)\n",
    "df['mobiles']=df['mobiles'].astype(str)"
   ]
  },
  {
   "attachments": {},
   "cell_type": "markdown",
   "metadata": {},
   "source": [
    "2,Change the date column to the same format ‘YYYY-MM-DD’."
   ]
  },
  {
   "cell_type": "code",
   "execution_count": 393,
   "metadata": {},
   "outputs": [],
   "source": [
    "def exchange(row):\n",
    "    if \":\" in row['join%_date']:\n",
    "        row['join%_date'] = row['join%_date'].split(' ')[0]\n",
    "    else:\n",
    "        # Chuyển đổi cột 'join%_date' thành đối tượng datetime\n",
    "        row['join%_date'] = pd.to_datetime(row['join%_date'])\n",
    "        # Chuyển đổi định dạng của cột thành 'YYYY-MM-DD'\n",
    "        row['join%_date'] = row['join%_date'].strftime('%Y-%m-%d')\n",
    "    return row\n",
    "\n",
    "df = df.apply(exchange, axis=1)\n",
    "df['join%_date'] = pd.to_datetime(df['join%_date'])\n"
   ]
  },
  {
   "attachments": {},
   "cell_type": "markdown",
   "metadata": {},
   "source": [
    "3,Change the name column to the title case (e.g: JasonMraz)."
   ]
  },
  {
   "cell_type": "code",
   "execution_count": 394,
   "metadata": {},
   "outputs": [],
   "source": [
    "df['fll_nam'] = df['fll_nam'].str.title()\n"
   ]
  },
  {
   "attachments": {},
   "cell_type": "markdown",
   "metadata": {},
   "source": [
    "4,Make a new “email” column with form: {last_name}.{first_name}.{id}@yourcompany.com"
   ]
  },
  {
   "cell_type": "code",
   "execution_count": 395,
   "metadata": {},
   "outputs": [],
   "source": [
    "df['last_name']=df['fll_nam'].str.split().str[-1]\n",
    "df['first_name']=df['fll_nam'].str.split().str[0]\n",
    "df['email']=df['last_name']+df['first_name']+'.'+df['cust_id']+'@yourcompany.com'\n",
    "df=df.drop(['first_name','last_name'],axis=1)"
   ]
  },
  {
   "attachments": {},
   "cell_type": "markdown",
   "metadata": {},
   "source": [
    "5,Change the phone number column to the format “84......”"
   ]
  },
  {
   "cell_type": "code",
   "execution_count": 396,
   "metadata": {},
   "outputs": [],
   "source": [
    "df['mobiles'] = df['mobiles'].apply(lambda x: '84' + x if len(x)==9 else ('84'+x[1:] if len(x)==10  else x))"
   ]
  },
  {
   "attachments": {},
   "cell_type": "markdown",
   "metadata": {},
   "source": [
    "6,Find any duplicated ID and remove those who joinlater."
   ]
  },
  {
   "cell_type": "code",
   "execution_count": 397,
   "metadata": {},
   "outputs": [],
   "source": [
    "df.sort_values(by='join%_date',inplace=True)\n",
    "def removed(data):\n",
    "    l=[]\n",
    "    for i,row in data.iterrows():\n",
    "        if row['cust_id'] not in l:\n",
    "            l.append(row['cust_id'])\n",
    "        else :\n",
    "            data.drop(i,inplace=True)\n",
    "removed(df)"
   ]
  },
  {
   "cell_type": "code",
   "execution_count": 398,
   "metadata": {},
   "outputs": [
    {
     "data": {
      "text/html": [
       "<div>\n",
       "<style scoped>\n",
       "    .dataframe tbody tr th:only-of-type {\n",
       "        vertical-align: middle;\n",
       "    }\n",
       "\n",
       "    .dataframe tbody tr th {\n",
       "        vertical-align: top;\n",
       "    }\n",
       "\n",
       "    .dataframe thead th {\n",
       "        text-align: right;\n",
       "    }\n",
       "</style>\n",
       "<table border=\"1\" class=\"dataframe\">\n",
       "  <thead>\n",
       "    <tr style=\"text-align: right;\">\n",
       "      <th></th>\n",
       "      <th>cust_id</th>\n",
       "      <th>join%_date</th>\n",
       "      <th>mobiles</th>\n",
       "      <th>fll_nam</th>\n",
       "      <th>email</th>\n",
       "    </tr>\n",
       "  </thead>\n",
       "  <tbody>\n",
       "    <tr>\n",
       "      <th>35</th>\n",
       "      <td>36</td>\n",
       "      <td>2017-02-10</td>\n",
       "      <td>84339661824</td>\n",
       "      <td>Gregory Miele</td>\n",
       "      <td>MieleGregory.36@yourcompany.com</td>\n",
       "    </tr>\n",
       "    <tr>\n",
       "      <th>37</th>\n",
       "      <td>38</td>\n",
       "      <td>2017-08-02</td>\n",
       "      <td>84344179399</td>\n",
       "      <td>Melvin Pigg</td>\n",
       "      <td>PiggMelvin.38@yourcompany.com</td>\n",
       "    </tr>\n",
       "    <tr>\n",
       "      <th>25</th>\n",
       "      <td>26</td>\n",
       "      <td>2017-08-07</td>\n",
       "      <td>84966042581</td>\n",
       "      <td>Charles Garnand</td>\n",
       "      <td>GarnandCharles.26@yourcompany.com</td>\n",
       "    </tr>\n",
       "    <tr>\n",
       "      <th>4</th>\n",
       "      <td>5</td>\n",
       "      <td>2017-08-12</td>\n",
       "      <td>84767065885</td>\n",
       "      <td>Dollie Martinez</td>\n",
       "      <td>MartinezDollie.5@yourcompany.com</td>\n",
       "    </tr>\n",
       "    <tr>\n",
       "      <th>96</th>\n",
       "      <td>97</td>\n",
       "      <td>2017-08-22</td>\n",
       "      <td>84972812359</td>\n",
       "      <td>Daniel Bentley</td>\n",
       "      <td>BentleyDaniel.97@yourcompany.com</td>\n",
       "    </tr>\n",
       "  </tbody>\n",
       "</table>\n",
       "</div>"
      ],
      "text/plain": [
       "   cust_id join%_date      mobiles          fll_nam  \\\n",
       "35      36 2017-02-10  84339661824    Gregory Miele   \n",
       "37      38 2017-08-02  84344179399      Melvin Pigg   \n",
       "25      26 2017-08-07  84966042581  Charles Garnand   \n",
       "4        5 2017-08-12  84767065885  Dollie Martinez   \n",
       "96      97 2017-08-22  84972812359   Daniel Bentley   \n",
       "\n",
       "                                email  \n",
       "35    MieleGregory.36@yourcompany.com  \n",
       "37      PiggMelvin.38@yourcompany.com  \n",
       "25  GarnandCharles.26@yourcompany.com  \n",
       "4    MartinezDollie.5@yourcompany.com  \n",
       "96   BentleyDaniel.97@yourcompany.com  "
      ]
     },
     "execution_count": 398,
     "metadata": {},
     "output_type": "execute_result"
    }
   ],
   "source": [
    "df.head()"
   ]
  },
  {
   "cell_type": "code",
   "execution_count": 399,
   "metadata": {},
   "outputs": [
    {
     "data": {
      "text/html": [
       "<div>\n",
       "<style scoped>\n",
       "    .dataframe tbody tr th:only-of-type {\n",
       "        vertical-align: middle;\n",
       "    }\n",
       "\n",
       "    .dataframe tbody tr th {\n",
       "        vertical-align: top;\n",
       "    }\n",
       "\n",
       "    .dataframe thead th {\n",
       "        text-align: right;\n",
       "    }\n",
       "</style>\n",
       "<table border=\"1\" class=\"dataframe\">\n",
       "  <thead>\n",
       "    <tr style=\"text-align: right;\">\n",
       "      <th></th>\n",
       "      <th>cust_id</th>\n",
       "      <th>join%_date</th>\n",
       "      <th>mobiles</th>\n",
       "      <th>fll_nam</th>\n",
       "      <th>email</th>\n",
       "    </tr>\n",
       "  </thead>\n",
       "  <tbody>\n",
       "    <tr>\n",
       "      <th>33</th>\n",
       "      <td>9</td>\n",
       "      <td>2017-10-21</td>\n",
       "      <td>84285210195</td>\n",
       "      <td>Shelby Dexter</td>\n",
       "      <td>DexterShelby.9@yourcompany.com</td>\n",
       "    </tr>\n",
       "  </tbody>\n",
       "</table>\n",
       "</div>"
      ],
      "text/plain": [
       "   cust_id join%_date      mobiles        fll_nam  \\\n",
       "33       9 2017-10-21  84285210195  Shelby Dexter   \n",
       "\n",
       "                             email  \n",
       "33  DexterShelby.9@yourcompany.com  "
      ]
     },
     "execution_count": 399,
     "metadata": {},
     "output_type": "execute_result"
    }
   ],
   "source": [
    "df.loc[df['cust_id']=='9']"
   ]
  },
  {
   "attachments": {},
   "cell_type": "markdown",
   "metadata": {},
   "source": [
    "7,Filter those who join since 2019 and export to acsv file, delimited by “|”, file name“emp_{report_date}.csv” with report_date = today."
   ]
  },
  {
   "cell_type": "code",
   "execution_count": 400,
   "metadata": {},
   "outputs": [],
   "source": [
    "filtered_df = df[df['join%_date'].dt.year == 2019]\n",
    "# Lấy ngày hôm nay\n",
    "report_date = dt.date.today().strftime('%Y%m%d')\n",
    "\n",
    "file_name = f\"emp_{report_date}.csv\"\n",
    "\n",
    "filtered_df.to_csv(file_name, sep='|', index=False)\n"
   ]
  }
 ],
 "metadata": {
  "kernelspec": {
   "display_name": "base",
   "language": "python",
   "name": "python3"
  },
  "language_info": {
   "codemirror_mode": {
    "name": "ipython",
    "version": 3
   },
   "file_extension": ".py",
   "mimetype": "text/x-python",
   "name": "python",
   "nbconvert_exporter": "python",
   "pygments_lexer": "ipython3",
   "version": "3.10.9"
  },
  "orig_nbformat": 4
 },
 "nbformat": 4,
 "nbformat_minor": 2
}
